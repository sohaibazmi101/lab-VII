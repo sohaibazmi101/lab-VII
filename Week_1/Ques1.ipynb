{
  "nbformat": 4,
  "nbformat_minor": 0,
  "metadata": {
    "colab": {
      "provenance": [],
      "authorship_tag": "ABX9TyPZesDliaeujp4O+r2pgpvq",
      "include_colab_link": true
    },
    "kernelspec": {
      "name": "python3",
      "display_name": "Python 3"
    },
    "language_info": {
      "name": "python"
    }
  },
  "cells": [
    {
      "cell_type": "markdown",
      "metadata": {
        "id": "view-in-github",
        "colab_type": "text"
      },
      "source": [
        "<a href=\"https://colab.research.google.com/github/sohaibazmi101/lab-VII/blob/main/Week_1/Ques1.ipynb\" target=\"_parent\"><img src=\"https://colab.research.google.com/assets/colab-badge.svg\" alt=\"Open In Colab\"/></a>"
      ]
    },
    {
      "cell_type": "code",
      "execution_count": 3,
      "metadata": {
        "colab": {
          "base_uri": "https://localhost:8080/"
        },
        "collapsed": true,
        "id": "7XYwb_eK9th4",
        "outputId": "acb3b8f3-ca84-4b07-aeb8-0b5071683879"
      },
      "outputs": [
        {
          "output_type": "stream",
          "name": "stdout",
          "text": [
            "Fahrenheit Readings :  [72.5, 73.58000000000001, 69.62, 75.2, 70.7, 67.64, 79.16, 74.30000000000001]\n",
            "Hot Days (Celcius > 23.0) :  [23.1, 24.0, 26.2, 23.5]\n"
          ]
        }
      ],
      "source": [
        "readings = [22.5, 23.1, 20.9, 24.0, 21.5,19.8,26.2, 23.5]\n",
        "fahrenheit_readings = [c * 1.8 + 32 for c in readings]\n",
        "hot_days = [c for c in readings if c > 23.0]\n",
        "print(\"Fahrenheit Readings : \", fahrenheit_readings)\n",
        "print(\"Hot Days (Celcius > 23.0) : \", hot_days)"
      ]
    }
  ]
}