{
  "nbformat": 4,
  "nbformat_minor": 0,
  "metadata": {
    "colab": {
      "provenance": [],
      "authorship_tag": "ABX9TyN1oMykWmNw5L846H449cfF",
      "include_colab_link": true
    },
    "kernelspec": {
      "name": "python3",
      "display_name": "Python 3"
    },
    "language_info": {
      "name": "python"
    }
  },
  "cells": [
    {
      "cell_type": "markdown",
      "metadata": {
        "id": "view-in-github",
        "colab_type": "text"
      },
      "source": [
        "<a href=\"https://colab.research.google.com/github/sohaibazmi101/lab-VII/blob/main/Week_1/Ques.ipynb\" target=\"_parent\"><img src=\"https://colab.research.google.com/assets/colab-badge.svg\" alt=\"Open In Colab\"/></a>"
      ]
    },
    {
      "cell_type": "code",
      "execution_count": 3,
      "metadata": {
        "colab": {
          "base_uri": "https://localhost:8080/"
        },
        "collapsed": true,
        "id": "7XYwb_eK9th4",
        "outputId": "acb3b8f3-ca84-4b07-aeb8-0b5071683879"
      },
      "outputs": [
        {
          "output_type": "stream",
          "name": "stdout",
          "text": [
            "Fahrenheit Readings :  [72.5, 73.58000000000001, 69.62, 75.2, 70.7, 67.64, 79.16, 74.30000000000001]\n",
            "Hot Days (Celcius > 23.0) :  [23.1, 24.0, 26.2, 23.5]\n"
          ]
        }
      ],
      "source": [
        "#   Ques 1\n",
        "\n",
        "readings = [22.5, 23.1, 20.9, 24.0, 21.5,19.8,26.2, 23.5]\n",
        "fahrenheit_readings = [c * 1.8 + 32 for c in readings]\n",
        "hot_days = [c for c in readings if c > 23.0]\n",
        "print(\"Fahrenheit Readings : \", fahrenheit_readings)\n",
        "print(\"Hot Days (Celcius > 23.0) : \", hot_days)"
      ]
    },
    {
      "cell_type": "code",
      "source": [
        "#   Ques 2\n",
        "\n",
        "user_preference = {\"theme\":\"dark\", \"notifications\":True,\"language\":\"en-US\", \"font_size\":14}\n",
        "currency = user_preference.get(\"currency\", \"USD\")\n",
        "print(\"Curency Preferences : \",currency)\n",
        "user_preference[\"font_size\"] = 16\n",
        "user_preference.pop(\"notifications\", None)\n",
        "print(\"Updated User Preferences:\")\n",
        "for key, value in user_preference.items():\n",
        "  print(f\"{key}: {value}\")"
      ],
      "metadata": {
        "colab": {
          "base_uri": "https://localhost:8080/"
        },
        "id": "MyDd8ychCi_h",
        "outputId": "ff0d0cdd-778b-433e-f9db-355bd1fd83b3"
      },
      "execution_count": 4,
      "outputs": [
        {
          "output_type": "stream",
          "name": "stdout",
          "text": [
            "Curency Preferences :  USD\n",
            "Updated User Preferences:\n",
            "theme: dark\n",
            "language: en-US\n",
            "font_size: 16\n"
          ]
        }
      ]
    }
  ]
}