{
  "nbformat": 4,
  "nbformat_minor": 0,
  "metadata": {
    "colab": {
      "provenance": [],
      "authorship_tag": "ABX9TyPF7Cs/UNszUa9mevATV6mZ",
      "include_colab_link": true
    },
    "kernelspec": {
      "name": "python3",
      "display_name": "Python 3"
    },
    "language_info": {
      "name": "python"
    }
  },
  "cells": [
    {
      "cell_type": "markdown",
      "metadata": {
        "id": "view-in-github",
        "colab_type": "text"
      },
      "source": [
        "<a href=\"https://colab.research.google.com/github/sohaibazmi101/lab-VII/blob/main/Week_1/Ques.ipynb\" target=\"_parent\"><img src=\"https://colab.research.google.com/assets/colab-badge.svg\" alt=\"Open In Colab\"/></a>"
      ]
    },
    {
      "cell_type": "code",
      "execution_count": 8,
      "metadata": {
        "colab": {
          "base_uri": "https://localhost:8080/"
        },
        "collapsed": true,
        "id": "7XYwb_eK9th4",
        "outputId": "1204ef3a-7ebf-4d7f-c09e-707a294673d1"
      },
      "outputs": [
        {
          "output_type": "stream",
          "name": "stdout",
          "text": [
            "Fahrenheit Readings :  [72.5, 73.58000000000001, 69.62, 75.2, 70.7, 67.64, 79.16, 74.30000000000001]\n",
            "Hot Days (Celcius > 23.0) :  [23.1, 24.0, 26.2, 23.5]\n"
          ]
        }
      ],
      "source": [
        "#   Ques 1\n",
        "\n",
        "readings = [22.5, 23.1, 20.9, 24.0, 21.5,19.8,26.2, 23.5]\n",
        "fahrenheit_readings = [c * 1.8 + 32 for c in readings]\n",
        "hot_days = [c for c in readings if c > 23.0]\n",
        "print(\"Fahrenheit Readings : \", fahrenheit_readings)\n",
        "print(\"Hot Days (Celcius > 23.0) : \", hot_days)"
      ]
    },
    {
      "cell_type": "code",
      "source": [
        "#   Ques 2\n",
        "\n",
        "user_preference = {\"theme\":\"dark\", \"notifications\":True,\"language\":\"en-US\", \"font_size\":14}\n",
        "currency = user_preference.get(\"currency\", \"USD\")\n",
        "print(\"Curency Preferences : \",currency)\n",
        "user_preference[\"font_size\"] = 16\n",
        "user_preference.pop(\"notifications\", None)\n",
        "print(\"Updated User Preferences:\")\n",
        "for key, value in user_preference.items():\n",
        "  print(f\"{key}: {value}\")"
      ],
      "metadata": {
        "colab": {
          "base_uri": "https://localhost:8080/"
        },
        "id": "MyDd8ychCi_h",
        "outputId": "4e6cd30b-299b-4c42-90c3-5b36d6ec7d02"
      },
      "execution_count": 9,
      "outputs": [
        {
          "output_type": "stream",
          "name": "stdout",
          "text": [
            "Curency Preferences :  USD\n",
            "Updated User Preferences:\n",
            "theme: dark\n",
            "language: en-US\n",
            "font_size: 16\n"
          ]
        }
      ]
    },
    {
      "cell_type": "code",
      "source": [
        "#    Ques 3\n",
        "\n",
        "log1_list = [\"A101\", \"B202\", \"C303\", \"A101\", \"D404\"]\n",
        "log1_events = set(log1_list)\n",
        "\n",
        "log2_events = {\"C303\", \"E505\", \"F606\", \"B202\"}\n",
        "\n",
        "common_events = log1_events.intersection(log2_events)\n",
        "unique_events = log1_events.union(log2_events)\n",
        "\n",
        "print(\"Unique Events in Log 1 : \", log1_events)\n",
        "print(\"Common Events : \", common_events)\n",
        "print(\"All Unique Events from both logs : \", unique_events)"
      ],
      "metadata": {
        "colab": {
          "base_uri": "https://localhost:8080/"
        },
        "id": "L5AqhX0FIK9i",
        "outputId": "051964c4-0212-413c-83f1-5f92ce985b6e"
      },
      "execution_count": 7,
      "outputs": [
        {
          "output_type": "stream",
          "name": "stdout",
          "text": [
            "Unique Events in Log 1 :  {'A101', 'C303', 'B202', 'D404'}\n",
            "Common Events :  {'C303', 'B202'}\n",
            "All Unique Events from both logs :  {'C303', 'E505', 'A101', 'B202', 'F606', 'D404'}\n"
          ]
        }
      ]
    },
    {
      "cell_type": "code",
      "source": [
        "#    Ques 4\n",
        "\n",
        "numbers = [1,2,3,4,5,6,7,8,9,10]\n",
        "\n",
        "squared_numbers = list(map(lambda x: x ** 2, numbers))\n",
        "print(\"Squared Numbers : \", squared_numbers)\n",
        "\n",
        "odd_numbers = list(filter(lambda x: x % 2 != 0, numbers))\n",
        "print(\"Odd Numbers : \", odd_numbers)"
      ],
      "metadata": {
        "colab": {
          "base_uri": "https://localhost:8080/"
        },
        "id": "i6DpaTLgLDrC",
        "outputId": "9f85f6e2-6e53-46c4-a34c-5790bb1b2386"
      },
      "execution_count": 10,
      "outputs": [
        {
          "output_type": "stream",
          "name": "stdout",
          "text": [
            "Squared Numbers :  [1, 4, 9, 16, 25, 36, 49, 64, 81, 100]\n",
            "Odd Numbers :  [1, 3, 5, 7, 9]\n"
          ]
        }
      ]
    }
  ]
}