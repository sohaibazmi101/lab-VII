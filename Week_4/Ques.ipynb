{
  "nbformat": 4,
  "nbformat_minor": 0,
  "metadata": {
    "colab": {
      "provenance": [],
      "toc_visible": true,
      "authorship_tag": "ABX9TyPrclL4bzHIe5mF4V1RKdXY",
      "include_colab_link": true
    },
    "kernelspec": {
      "name": "python3",
      "display_name": "Python 3"
    },
    "language_info": {
      "name": "python"
    }
  },
  "cells": [
    {
      "cell_type": "markdown",
      "metadata": {
        "id": "view-in-github",
        "colab_type": "text"
      },
      "source": [
        "<a href=\"https://colab.research.google.com/github/sohaibazmi101/lab-VII/blob/main/Week_4/Ques.ipynb\" target=\"_parent\"><img src=\"https://colab.research.google.com/assets/colab-badge.svg\" alt=\"Open In Colab\"/></a>"
      ]
    },
    {
      "cell_type": "code",
      "execution_count": 1,
      "metadata": {
        "colab": {
          "base_uri": "https://localhost:8080/"
        },
        "id": "CT8-ukq6Or_O",
        "outputId": "2825622c-6e74-42c6-f7d6-2bfdbc23a666"
      },
      "outputs": [
        {
          "output_type": "stream",
          "name": "stdout",
          "text": [
            "Shortest Path: [(0, 0), (0, 1), (1, 1), (1, 2), (2, 2), (3, 2), (3, 3)]\n"
          ]
        }
      ],
      "source": [
        "import heapq\n",
        "\n",
        "def manhattan(a, b):\n",
        "    \"\"\"Heuristic: Manhattan distance\"\"\"\n",
        "    return abs(a[0] - b[0]) + abs(a[1] - b[1])\n",
        "\n",
        "def a_star(grid, start, end):\n",
        "    rows, cols = len(grid), len(grid[0])\n",
        "    directions = [(-1,0),(1,0),(0,-1),(0,1)]\n",
        "\n",
        "    open_set = [(0, start)]\n",
        "    heapq.heapify(open_set)\n",
        "\n",
        "    g_score = {start: 0}\n",
        "    f_score = {start: manhattan(start, end)}\n",
        "    parent = {start: None}\n",
        "\n",
        "    while open_set:\n",
        "        _, current = heapq.heappop(open_set)\n",
        "\n",
        "        if current == end:\n",
        "            path = []\n",
        "            while current is not None:\n",
        "                path.append(current)\n",
        "                current = parent[current]\n",
        "            return path[::-1]\n",
        "\n",
        "        r, c = current\n",
        "        for dr, dc in directions:\n",
        "            nr, nc = r + dr, c + dc\n",
        "            neighbor = (nr, nc)\n",
        "\n",
        "            if 0 <= nr < rows and 0 <= nc < cols and grid[nr][nc] == 0:\n",
        "                tentative_g = g_score[current] + 1\n",
        "                if tentative_g < g_score.get(neighbor, float('inf')):\n",
        "                    parent[neighbor] = current\n",
        "                    g_score[neighbor] = tentative_g\n",
        "                    f_score[neighbor] = tentative_g + manhattan(neighbor, end)\n",
        "                    heapq.heappush(open_set, (f_score[neighbor], neighbor))\n",
        "\n",
        "    return None\n",
        "grid = [\n",
        "    [0, 0, 1, 0],\n",
        "    [0, 0, 0, 0],\n",
        "    [1, 0, 0, 1],\n",
        "    [0, 0, 0, 0]\n",
        "]\n",
        "\n",
        "start = (0, 0)\n",
        "end = (3, 3)\n",
        "\n",
        "path = a_star(grid, start, end)\n",
        "print(\"Shortest Path:\", path)\n"
      ]
    },
    {
      "cell_type": "code",
      "source": [
        "import heapq\n",
        "import math\n",
        "\n",
        "def euclidean(a, b):\n",
        "    return math.sqrt((a[0] - b[0])**2 + (a[1] - b[1])**2)\n",
        "\n",
        "def best_first_search(cities, graph, start, goal):\n",
        "    open_set = [(0, start)]\n",
        "    heapq.heapify(open_set)\n",
        "\n",
        "    visited = set()\n",
        "    parent = {start: None}\n",
        "\n",
        "    while open_set:\n",
        "        _, current = heapq.heappop(open_set)\n",
        "\n",
        "        if current == goal:\n",
        "            path = []\n",
        "            while current is not None:\n",
        "                path.append(current)\n",
        "                current = parent[current]\n",
        "            return path[::-1]\n",
        "\n",
        "        visited.add(current)\n",
        "\n",
        "        for neighbor in graph.get(current, []):\n",
        "            if neighbor not in visited:\n",
        "                parent[neighbor] = current\n",
        "                h = euclidean(cities[neighbor], cities[goal])\n",
        "                heapq.heappush(open_set, (h, neighbor))\n",
        "\n",
        "    return None\n",
        "cities = {\n",
        "    'A': (0, 0),\n",
        "    'B': (2, 3),\n",
        "    'C': (5, 2),\n",
        "    'D': (6, 6),\n",
        "    'E': (8, 3)\n",
        "}\n",
        "\n",
        "graph = {\n",
        "    'A': ['B', 'C'],\n",
        "    'B': ['A', 'D'],\n",
        "    'C': ['A', 'D', 'E'],\n",
        "    'D': ['B', 'C', 'E'],\n",
        "    'E': ['C', 'D']\n",
        "}\n",
        "\n",
        "start, goal = 'A', 'E'\n",
        "path = best_first_search(cities, graph, start, goal)\n",
        "print(\"Path from\", start, \"to\", goal, \":\", path)\n"
      ],
      "metadata": {
        "colab": {
          "base_uri": "https://localhost:8080/"
        },
        "id": "F-Ldh9RdPE2d",
        "outputId": "bb417e71-b4b2-4c73-ae3c-7c41eedfacbb"
      },
      "execution_count": 2,
      "outputs": [
        {
          "output_type": "stream",
          "name": "stdout",
          "text": [
            "Path from A to E : ['A', 'C', 'E']\n"
          ]
        }
      ]
    },
    {
      "cell_type": "code",
      "source": [
        "from collections import deque\n",
        "import heapq\n",
        "\n",
        "maze = [\n",
        "    [0, 0, 1, 0, 0],\n",
        "    [1, 0, 1, 0, 1],\n",
        "    [0, 0, 0, 0, 0],\n",
        "    [0, 1, 1, 1, 0],\n",
        "    [0, 0, 0, 0, 0]\n",
        "]\n",
        "start = (0, 0)\n",
        "goal = (0, 4)\n",
        "directions = [(-1,0),(1,0),(0,-1),(0,1)]\n",
        "def bfs(maze, start, goal):\n",
        "    rows, cols = len(maze), len(maze[0])\n",
        "    queue = deque([start])\n",
        "    visited = set([start])\n",
        "    parent = {start: None}\n",
        "    visited_count = 1\n",
        "\n",
        "    while queue:\n",
        "        r, c = queue.popleft()\n",
        "        if (r, c) == goal:\n",
        "            break\n",
        "        for dr, dc in directions:\n",
        "            nr, nc = r + dr, c + dc\n",
        "            if 0 <= nr < rows and 0 <= nc < cols and maze[nr][nc] == 0 and (nr, nc) not in visited:\n",
        "                queue.append((nr, nc))\n",
        "                visited.add((nr, nc))\n",
        "                parent[(nr, nc)] = (r, c)\n",
        "                visited_count += 1\n",
        "    if goal not in parent:\n",
        "        return None, visited_count\n",
        "    path, node = [], goal\n",
        "    while node is not None:\n",
        "        path.append(node)\n",
        "        node = parent[node]\n",
        "    return path[::-1], visited_count\n",
        "\n",
        "def manhattan(a, b):\n",
        "    return abs(a[0]-b[0]) + abs(a[1]-b[1])\n",
        "\n",
        "def a_star(maze, start, goal):\n",
        "    rows, cols = len(maze), len(maze[0])\n",
        "    open_set = [(0, start)]\n",
        "    g_score = {start: 0}\n",
        "    f_score = {start: manhattan(start, goal)}\n",
        "    parent = {start: None}\n",
        "    visited = set()\n",
        "    visited_count = 0\n",
        "\n",
        "    while open_set:\n",
        "        _, current = heapq.heappop(open_set)\n",
        "        visited.add(current)\n",
        "        visited_count += 1\n",
        "\n",
        "        if current == goal:\n",
        "            path, node = [], goal\n",
        "            while node is not None:\n",
        "                path.append(node)\n",
        "                node = parent[node]\n",
        "            return path[::-1], visited_count\n",
        "\n",
        "        r, c = current\n",
        "        for dr, dc in directions:\n",
        "            nr, nc = r + dr, c + dc\n",
        "            neighbor = (nr, nc)\n",
        "            if 0 <= nr < rows and 0 <= nc < cols and maze[nr][nc] == 0:\n",
        "                tentative_g = g_score[current] + 1\n",
        "                if tentative_g < g_score.get(neighbor, float(\"inf\")):\n",
        "                    parent[neighbor] = current\n",
        "                    g_score[neighbor] = tentative_g\n",
        "                    f_score[neighbor] = tentative_g + manhattan(neighbor, goal)\n",
        "                    heapq.heappush(open_set, (f_score[neighbor], neighbor))\n",
        "    return None, visited_count\n",
        "\n",
        "bfs_path, bfs_visited = bfs(maze, start, goal)\n",
        "a_star_path, a_star_visited = a_star(maze, start, goal)\n",
        "\n",
        "print(\"BFS Path:\", bfs_path)\n",
        "print(\"BFS Steps:\", len(bfs_path) if bfs_path else None, \"| Visited Nodes:\", bfs_visited)\n",
        "\n",
        "print(\"A* Path:\", a_star_path)\n",
        "print(\"A* Steps:\", len(a_star_path) if a_star_path else None, \"| Visited Nodes:\", a_star_visited)\n"
      ],
      "metadata": {
        "colab": {
          "base_uri": "https://localhost:8080/"
        },
        "id": "EdjSy3h9PYxk",
        "outputId": "46d2bc46-9812-40a4-c393-dd4451d91a75"
      },
      "execution_count": 3,
      "outputs": [
        {
          "output_type": "stream",
          "name": "stdout",
          "text": [
            "BFS Path: [(0, 0), (0, 1), (1, 1), (2, 1), (2, 2), (2, 3), (1, 3), (0, 3), (0, 4)]\n",
            "BFS Steps: 9 | Visited Nodes: 18\n",
            "A* Path: [(0, 0), (0, 1), (1, 1), (2, 1), (2, 2), (2, 3), (1, 3), (0, 3), (0, 4)]\n",
            "A* Steps: 9 | Visited Nodes: 9\n"
          ]
        }
      ]
    },
    {
      "cell_type": "code",
      "source": [
        "import heapq\n",
        "\n",
        "def heuristic(a, b):\n",
        "    return abs(a[0] - b[0]) + abs(a[1] - b[1])\n",
        "\n",
        "def a_star_treasure(grid, start, goal):\n",
        "    rows, cols = len(grid), len(grid[0])\n",
        "    directions = [(-1,0),(1,0),(0,-1),(0,1)]\n",
        "    def cell_cost(r, c):\n",
        "        if grid[r][c] == 0:\n",
        "            return 1\n",
        "        elif grid[r][c] == \"B\":\n",
        "            return 0.5\n",
        "        return float(\"inf\")\n",
        "\n",
        "    open_set = [(0, start)]\n",
        "    g_score = {start: 0}\n",
        "    f_score = {start: heuristic(start, goal)}\n",
        "    parent = {start: None}\n",
        "\n",
        "    while open_set:\n",
        "        _, current = heapq.heappop(open_set)\n",
        "\n",
        "        if current == goal:\n",
        "            path, node = [], goal\n",
        "            while node is not None:\n",
        "                path.append(node)\n",
        "                node = parent[node]\n",
        "            return path[::-1], g_score[goal]\n",
        "\n",
        "        r, c = current\n",
        "        for dr, dc in directions:\n",
        "            nr, nc = r + dr, c + dc\n",
        "            if 0 <= nr < rows and 0 <= nc < cols:\n",
        "                cost = cell_cost(nr, nc)\n",
        "                if cost == float(\"inf\"):\n",
        "                    continue\n",
        "\n",
        "                tentative_g = g_score[current] + cost\n",
        "                if tentative_g < g_score.get((nr, nc), float(\"inf\")):\n",
        "                    parent[(nr, nc)] = current\n",
        "                    g_score[(nr, nc)] = tentative_g\n",
        "                    f_score[(nr, nc)] = tentative_g + heuristic((nr, nc), goal)\n",
        "                    heapq.heappush(open_set, (f_score[(nr, nc)], (nr, nc)))\n",
        "\n",
        "    return None, float(\"inf\")\n",
        "grid = [\n",
        "    [0, 0, 1, 0, \"B\"],\n",
        "    [0, 1, 0, 0, 0],\n",
        "    [0, \"B\", 0, 1, 0],\n",
        "    [0, 0, 0, 0, 0],\n",
        "    [1, 1, 0, \"B\", 0]\n",
        "]\n",
        "\n",
        "start = (0, 0)\n",
        "goal = (4, 4)\n",
        "\n",
        "path, cost = a_star_treasure(grid, start, goal)\n",
        "print(\"Path:\", path)\n",
        "print(\"Total Cost:\", cost)\n"
      ],
      "metadata": {
        "colab": {
          "base_uri": "https://localhost:8080/"
        },
        "id": "gMNQW4RIP3jF",
        "outputId": "7aefd559-e6e9-465c-eb7a-e46b2b1e2983"
      },
      "execution_count": 5,
      "outputs": [
        {
          "output_type": "stream",
          "name": "stdout",
          "text": [
            "Path: [(0, 0), (1, 0), (2, 0), (2, 1), (2, 2), (3, 2), (3, 3), (4, 3), (4, 4)]\n",
            "Total Cost: 7.0\n"
          ]
        }
      ]
    }
  ]
}