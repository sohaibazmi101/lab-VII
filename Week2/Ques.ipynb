{
  "nbformat": 4,
  "nbformat_minor": 0,
  "metadata": {
    "colab": {
      "provenance": [],
      "toc_visible": true,
      "authorship_tag": "ABX9TyOgir8spsVhWgPojdOmiFMm",
      "include_colab_link": true
    },
    "kernelspec": {
      "name": "python3",
      "display_name": "Python 3"
    },
    "language_info": {
      "name": "python"
    }
  },
  "cells": [
    {
      "cell_type": "markdown",
      "metadata": {
        "id": "view-in-github",
        "colab_type": "text"
      },
      "source": [
        "<a href=\"https://colab.research.google.com/github/sohaibazmi101/lab-VII/blob/main/Week2/Ques.ipynb\" target=\"_parent\"><img src=\"https://colab.research.google.com/assets/colab-badge.svg\" alt=\"Open In Colab\"/></a>"
      ]
    },
    {
      "cell_type": "markdown",
      "source": [
        "**Week 2**"
      ],
      "metadata": {
        "id": "SbrMF5bmT8w2"
      }
    },
    {
      "cell_type": "code",
      "source": [
        "from os import makedev\n",
        "class Car:\n",
        "  def __init__(self, make, model, year):\n",
        "    self.make = make\n",
        "    self.model = model\n",
        "    self.year = year\n",
        "\n",
        "  def display_info(self):\n",
        "    print(f\"Car Info : \")\n",
        "    print(f\"Make: {self.make}\")\n",
        "    print(f\"Model: {self.model}\")\n",
        "    print(f\"Year: {self.year}\")\n",
        "\n",
        "car1 = Car(\"Toyota\", \"Camry\", 2020)\n",
        "car2 = Car(\"Honda\", \"Civiv\", 2022)\n",
        "\n",
        "print(\"Car I info: \")\n",
        "car1.display_info()\n",
        "print(\"\\nCar II info: \")\n",
        "car2.display_info()"
      ],
      "metadata": {
        "colab": {
          "base_uri": "https://localhost:8080/"
        },
        "id": "aiITxEPrQJJG",
        "outputId": "e6011c3c-9067-4116-fe76-253257b9680a"
      },
      "execution_count": null,
      "outputs": [
        {
          "output_type": "stream",
          "name": "stdout",
          "text": [
            "Car I info: \n",
            "Car Info : \n",
            "Make: Toyota\n",
            "Model: Camry\n",
            "Year: 2020\n",
            "\n",
            "Car II info: \n",
            "Car Info : \n",
            "Make: Honda\n",
            "Model: Civiv\n",
            "Year: 2022\n"
          ]
        }
      ]
    },
    {
      "cell_type": "code",
      "source": [
        "class Stack:\n",
        "  def __init__(self):\n",
        "    self.items = []\n",
        "\n",
        "  def push(self, item):\n",
        "    self.items.append(item)\n",
        "\n",
        "  def pop(self):\n",
        "    if not self.is_empty():\n",
        "      return self.items.pop()\n",
        "    return None\n",
        "\n",
        "  def peek(self):\n",
        "    if not self.is_empty():\n",
        "      return self.items[-1]\n",
        "    return None\n",
        "\n",
        "  def is_empty(self):\n",
        "    return len(self.items) == 0\n",
        "  def size(self):\n",
        "    return len(self.items)\n",
        "\n",
        "class ParkingLot:\n",
        "  def __init__(self):\n",
        "    self.cars = Stack()\n",
        "\n",
        "  def park_car(self, plate):\n",
        "    print(f\"Parking Car with number plate {plate}\")\n",
        "    self.cars.push(plate)\n",
        "  def remove_car(self):\n",
        "    removed_plate = self.cars.pop()\n",
        "    if removed_plate:\n",
        "      print(f\"Removing car with plate: {removed_plate}\")\n",
        "    else:\n",
        "      print(\"Parking Lot is Empty\")\n",
        "    return removed_plate\n",
        "  def display_lot(self):\n",
        "    if self.cars.is_empty():\n",
        "      print(\"Parking lot is empty\")\n",
        "    else:\n",
        "      print(\"Available cars in lot: \")\n",
        "      print(self.cars.items)\n",
        "\n",
        "parkingLot = ParkingLot()\n",
        "\n",
        "parkingLot.park_car(\"ABC123\")\n",
        "parkingLot.park_car(\"DEF456\")\n",
        "parkingLot.park_car(\"LMN456\")\n",
        "\n",
        "parkingLot.display_lot()\n",
        "\n",
        "parkingLot.remove_car()\n",
        "\n",
        "parkingLot.display_lot()"
      ],
      "metadata": {
        "colab": {
          "base_uri": "https://localhost:8080/"
        },
        "id": "G93nJN4wScbJ",
        "outputId": "71d638ca-e68f-4a46-a2ba-fc1fd55503d2"
      },
      "execution_count": null,
      "outputs": [
        {
          "output_type": "stream",
          "name": "stdout",
          "text": [
            "Parking Car with number plate ABC123\n",
            "Parking Car with number plate DEF456\n",
            "Parking Car with number plate LMN456\n",
            "Available cars in lot: \n",
            "['ABC123', 'DEF456', 'LMN456']\n",
            "Removing car with plate: LMN456\n",
            "Available cars in lot: \n",
            "['ABC123', 'DEF456']\n"
          ]
        }
      ]
    },
    {
      "cell_type": "code",
      "source": [
        "class BankAccount:\n",
        "  def __init__(self, account_number, balance=0):\n",
        "    self.account_number = account_number\n",
        "    self._balance = balance\n",
        "\n",
        "  def deposit(self, amount):\n",
        "    self._balance += amount\n",
        "    print(f\"Deposited ${amount}. Available Balance: ${self._balance}\")\n",
        "\n",
        "  def withdraw(self, amount):\n",
        "    if self._balance < amount:\n",
        "      print(f\"Insufficient Balance. Available Balance: ${self._balance}\")\n",
        "    else:\n",
        "      self._balance -= amount\n",
        "      print(f\"Withdrawn ${amount}. Available Balance: ${self._balance}\")\n",
        "\n",
        "bankAccount = BankAccount(\"123456789\")\n",
        "\n",
        "bankAccount.deposit(500)\n",
        "bankAccount.withdraw(200)\n",
        "bankAccount.withdraw(400)"
      ],
      "metadata": {
        "colab": {
          "base_uri": "https://localhost:8080/"
        },
        "id": "TkyP4lCaan0Q",
        "outputId": "01893b4b-a9bd-4a5d-ebde-dd45793ad9b7"
      },
      "execution_count": null,
      "outputs": [
        {
          "output_type": "stream",
          "name": "stdout",
          "text": [
            "Deposited $500. Available Balance: $500\n",
            "Withdrawn $200. Available Balance: $300\n",
            "Insufficient Balance. Available Balance: $300\n"
          ]
        }
      ]
    },
    {
      "cell_type": "code",
      "source": [
        "class Stack:\n",
        "  def __init__(self):\n",
        "    self.items = []\n",
        "  def push(self, item):\n",
        "    self.items.append(item)\n",
        "  def pop(self):\n",
        "    if not self.is_empty():\n",
        "      return self.items.pop()\n",
        "    else:\n",
        "      return None\n",
        "  def peek(self):\n",
        "    if not self.is_empty():\n",
        "      return self.items[-1]\n",
        "    else:\n",
        "      return None\n",
        "  def is_empty(self):\n",
        "    return self.size() == 0\n",
        "  def size(self):\n",
        "    return len(self.items)\n",
        "  def __str__(self):\n",
        "    return str(self.items)\n",
        "\n",
        "class Queue:\n",
        "  def __init__(self):\n",
        "    self.items = []\n",
        "  def enqueue(self, item):\n",
        "    self.items.append(item)\n",
        "  def dequeue(self):\n",
        "    if not self.is_empty():\n",
        "      return self.items.pop(0)\n",
        "    else:\n",
        "      return None\n",
        "  def front(self):\n",
        "    if not self.is_empty():\n",
        "      return self.items[0]\n",
        "    else:\n",
        "      return None\n",
        "  def is_empty(self):\n",
        "    return self.size() == 0\n",
        "  def size(self):\n",
        "    return len(self.items)\n",
        "  def __str__(self):\n",
        "    return str(self.items)\n",
        "\n",
        "class VehicleMaintenanceLog:\n",
        "  def __init__(self):\n",
        "    self.undo_stack = Stack()\n",
        "    self.redo_stack = Stack()\n",
        "    self.print_job = Queue()\n",
        "    self.current_log = \"\"\n",
        "  def add_log(self, text):\n",
        "    self.undo_stack.push(self.current_log)\n",
        "    self.current_log = text\n",
        "    self.redo_stack = Stack()\n",
        "    print(f\"Log Added {text}\")\n",
        "  def undo(self):\n",
        "    if not self.undo_stack.is_empty():\n",
        "      self.redo_stack.push(self.current_log)\n",
        "      self.current_log = self.undo_stack.pop()\n",
        "      print(\"Undo Performed\")\n",
        "    else:\n",
        "      print(\"Nothing to Undo\")\n",
        "  def redo(self):\n",
        "    if not self.redo_stack.is_empty():\n",
        "      self.undo_stack.push(self.current_log)\n",
        "      self.current_log = self.redo_stack.pop()\n",
        "      print(\"Redo Performed\")\n",
        "    else:\n",
        "      print(\"Nothing to Redo\")\n",
        "  def add_print_job(self, job):\n",
        "    self.print_job.enqueue(job)\n",
        "    print(f\"Pritn Job Added: {job}\")\n",
        "  def process_print_job(self):\n",
        "    job = self.print_job.dequeue()\n",
        "    if job:\n",
        "      print(f\"Processing Print Job: {job}\")\n",
        "    else:\n",
        "      print(\"No print job to process\")\n",
        "  def display_state(self):\n",
        "    print(f\"Current Log: {self.current_log}\")\n",
        "    print(f\"Undo Stack: {self.undo_stack}\")\n",
        "    print(f\"Redo Stack: {self.redo_stack}\")\n",
        "    print(f\"Print Job Queue: {self.print_job}\")\n",
        "\n",
        "log_system = VehicleMaintenanceLog()\n",
        "\n",
        "log_system.add_log(\"Toyota Camry 2020: Oil Change\")\n",
        "log_system.add_print_job(\"Log1: Oil change\")\n",
        "log_system.add_log(\"Honda Civic 2022: Tire Rotation\")\n",
        "log_system.add_print_job(\"Log2: Tire Rotation\")\n",
        "log_system.display_state()\n",
        "log_system.undo()\n",
        "log_system.add_print_job(\"Print Summary\")\n",
        "log_system.display_state()\n",
        "log_system.redo()\n",
        "log_system.add_print_job(\"Process one print job\")\n",
        "log_system.display_state()"
      ],
      "metadata": {
        "colab": {
          "base_uri": "https://localhost:8080/"
        },
        "id": "t13NcWTEebTx",
        "outputId": "21511110-0580-4623-b7d9-cff31ae02a2c"
      },
      "execution_count": null,
      "outputs": [
        {
          "output_type": "stream",
          "name": "stdout",
          "text": [
            "Log Added Toyota Camry 2020: Oil Change\n",
            "Pritn Job Added: Log1: Oil change\n",
            "Log Added Honda Civic 2022: Tire Rotation\n",
            "Pritn Job Added: Log2: Tire Rotation\n",
            "Current Log: Honda Civic 2022: Tire Rotation\n",
            "Undo Stack: ['', 'Toyota Camry 2020: Oil Change']\n",
            "Redo Stack: []\n",
            "Print Job Queue: ['Log1: Oil change', 'Log2: Tire Rotation']\n",
            "Undo Performed\n",
            "Pritn Job Added: Print Summary\n",
            "Current Log: Toyota Camry 2020: Oil Change\n",
            "Undo Stack: ['']\n",
            "Redo Stack: ['Honda Civic 2022: Tire Rotation']\n",
            "Print Job Queue: ['Log1: Oil change', 'Log2: Tire Rotation', 'Print Summary']\n",
            "Redo Performed\n",
            "Pritn Job Added: Process one print job\n",
            "Current Log: Honda Civic 2022: Tire Rotation\n",
            "Undo Stack: ['', 'Toyota Camry 2020: Oil Change']\n",
            "Redo Stack: []\n",
            "Print Job Queue: ['Log1: Oil change', 'Log2: Tire Rotation', 'Print Summary', 'Process one print job']\n"
          ]
        }
      ]
    }
  ]
}