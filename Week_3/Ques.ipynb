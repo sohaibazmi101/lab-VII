{
  "nbformat": 4,
  "nbformat_minor": 0,
  "metadata": {
    "colab": {
      "provenance": [],
      "toc_visible": true,
      "authorship_tag": "ABX9TyMFbm0WzalJG6M71nSNf12s",
      "include_colab_link": true
    },
    "kernelspec": {
      "name": "python3",
      "display_name": "Python 3"
    },
    "language_info": {
      "name": "python"
    }
  },
  "cells": [
    {
      "cell_type": "markdown",
      "metadata": {
        "id": "view-in-github",
        "colab_type": "text"
      },
      "source": [
        "<a href=\"https://colab.research.google.com/github/sohaibazmi101/lab-VII/blob/main/Week_3/Ques.ipynb\" target=\"_parent\"><img src=\"https://colab.research.google.com/assets/colab-badge.svg\" alt=\"Open In Colab\"/></a>"
      ]
    },
    {
      "cell_type": "code",
      "execution_count": 1,
      "metadata": {
        "colab": {
          "base_uri": "https://localhost:8080/"
        },
        "id": "Jyil4qtFEXfl",
        "outputId": "8947f0e4-cfe9-4ed5-d06d-300bece6b9e2"
      },
      "outputs": [
        {
          "output_type": "stream",
          "name": "stdout",
          "text": [
            "Shortest Path: [(0, 0), (1, 0), (2, 0), (3, 0), (4, 0), (4, 1), (4, 2), (4, 3), (4, 4)]\n"
          ]
        }
      ],
      "source": [
        "from collections import deque\n",
        "\n",
        "def bfs_maze_solver(maze, start, end):\n",
        "    rows, cols = len(maze), len(maze[0])\n",
        "    directions = [(-1,0),(1,0),(0,-1),(0,1)]\n",
        "    queue = deque([start])\n",
        "    visited = set([start])\n",
        "    parent = {start: None}\n",
        "\n",
        "    while queue:\n",
        "        r, c = queue.popleft()\n",
        "        if (r, c) == end:\n",
        "            break\n",
        "        for dr, dc in directions:\n",
        "            nr, nc = r + dr, c + dc\n",
        "            if (0 <= nr < rows and 0 <= nc < cols and\n",
        "                maze[nr][nc] == 0 and\n",
        "                (nr, nc) not in visited):\n",
        "                queue.append((nr, nc))\n",
        "                visited.add((nr, nc))\n",
        "                parent[(nr, nc)] = (r, c)\n",
        "    path = []\n",
        "    node = end\n",
        "    while node is not None:\n",
        "        path.append(node)\n",
        "        node = parent.get(node)\n",
        "\n",
        "    return path[::-1]\n",
        "maze = [\n",
        "    [0, 1, 0, 0, 0],\n",
        "    [0, 1, 0, 1, 0],\n",
        "    [0, 0, 0, 1, 0],\n",
        "    [0, 1, 1, 1, 0],\n",
        "    [0, 0, 0, 0, 0]\n",
        "]\n",
        "\n",
        "start = (0, 0)\n",
        "end = (4, 4)\n",
        "path = bfs_maze_solver(maze, start, end)\n",
        "print(\"Shortest Path:\", path)\n"
      ]
    },
    {
      "cell_type": "code",
      "source": [
        "def dfs_descendants(family, person, descendants=None):\n",
        "    if descendants is None:\n",
        "        descendants = []\n",
        "\n",
        "    for child in family.get(person, []):\n",
        "        descendants.append(child)\n",
        "        dfs_descendants(family, child, descendants)\n",
        "    return descendants\n",
        "family = {\n",
        "    \"Mumtaz\": [\"Rehan\", \"Shoraih\"],\n",
        "    \"Shami\": [\"Zeya\", \"Shafa\"],\n",
        "    \"Zeya\": [\"Abid\"],\n",
        "    \"Nawaz\": [\"Hadiya\"],\n",
        "    \"Hadiya\": [],\n",
        "    \"Kamal\": [],\n",
        "    \"Alquama\": []\n",
        "}\n",
        "print(\"Descendants of Mumtaz:\", dfs_descendants(family, \"Mumtaz\"))\n",
        "print(\"Descendants of Zeya:\", dfs_descendants(family, \"Zeya\"))\n"
      ],
      "metadata": {
        "colab": {
          "base_uri": "https://localhost:8080/"
        },
        "id": "OoYWodawL1Qx",
        "outputId": "94aaaf9d-d904-48ad-85e9-402fbc5fa084"
      },
      "execution_count": 3,
      "outputs": [
        {
          "output_type": "stream",
          "name": "stdout",
          "text": [
            "Descendants of Mumtaz: ['Rehan', 'Shoraih']\n",
            "Descendants of Zeya: ['Abid']\n"
          ]
        }
      ]
    },
    {
      "cell_type": "code",
      "source": [
        "from collections import deque\n",
        "\n",
        "def robot_in_grid_bfs(grid, start, end):\n",
        "    rows, cols = len(grid), len(grid[0])\n",
        "    directions = [(0, 1), (1, 0)]\n",
        "\n",
        "    queue = deque([start])\n",
        "    visited = set([start])\n",
        "    parent = {start: None}\n",
        "\n",
        "    while queue:\n",
        "        r, c = queue.popleft()\n",
        "\n",
        "        if (r, c) == end:\n",
        "            break\n",
        "\n",
        "        for dr, dc in directions:\n",
        "            nr, nc = r + dr, c + dc\n",
        "            if (0 <= nr < rows and 0 <= nc < cols and\n",
        "                grid[nr][nc] == 0 and\n",
        "                (nr, nc) not in visited):\n",
        "                queue.append((nr, nc))\n",
        "                visited.add((nr, nc))\n",
        "                parent[(nr, nc)] = (r, c)\n",
        "    if end not in parent:\n",
        "        return None\n",
        "    path = []\n",
        "    node = end\n",
        "    while node is not None:\n",
        "        path.append(node)\n",
        "        node = parent.get(node)\n",
        "\n",
        "    return path[::-1]\n",
        "grid = [\n",
        "    [0, 0, 1, 0],\n",
        "    [0, 0, 0, 0],\n",
        "    [1, 0, 0, 1],\n",
        "    [0, 0, 0, 0]\n",
        "]\n",
        "\n",
        "start = (0, 0)\n",
        "end = (3, 3)\n",
        "\n",
        "path = robot_in_grid_bfs(grid, start, end)\n",
        "print(\"Path:\", path)\n"
      ],
      "metadata": {
        "colab": {
          "base_uri": "https://localhost:8080/"
        },
        "id": "jjxs4myhNWnN",
        "outputId": "413505b8-d0eb-43f5-c682-0312a5a9fad3"
      },
      "execution_count": 8,
      "outputs": [
        {
          "output_type": "stream",
          "name": "stdout",
          "text": [
            "Path: [(0, 0), (0, 1), (1, 1), (1, 2), (2, 2), (3, 2), (3, 3)]\n"
          ]
        }
      ]
    },
    {
      "cell_type": "code",
      "source": [
        "def dfs_find_path(site, target, path=None):\n",
        "    if path is None:\n",
        "        path = []\n",
        "\n",
        "    for page, children in site.items():\n",
        "        new_path = path + [page]\n",
        "\n",
        "        if page == target:\n",
        "            return new_path\n",
        "\n",
        "        if children:\n",
        "            result = dfs_find_path(children, target, new_path)\n",
        "            if result:\n",
        "                return result\n",
        "\n",
        "    return None\n",
        "site = {\n",
        "    'Home': {\n",
        "        'About': {},\n",
        "        'Products': {\n",
        "            'Electronics': {},\n",
        "            'Books': {}\n",
        "        },\n",
        "        'Contact': {}\n",
        "    }\n",
        "}\n",
        "path = dfs_find_path(site, 'Books')\n",
        "if path:\n",
        "    print(\" → \".join(path))\n",
        "else:\n",
        "    print(\"Page not found\")\n"
      ],
      "metadata": {
        "colab": {
          "base_uri": "https://localhost:8080/"
        },
        "id": "Ww9-XrKlN9g8",
        "outputId": "6a8bc492-56a3-46f0-b002-abc713172559"
      },
      "execution_count": 9,
      "outputs": [
        {
          "output_type": "stream",
          "name": "stdout",
          "text": [
            "Home → Products → Books\n"
          ]
        }
      ]
    }
  ]
}